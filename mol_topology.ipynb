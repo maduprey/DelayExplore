{
  "nbformat": 4,
  "nbformat_minor": 0,
  "metadata": {
    "accelerator": "GPU",
    "colab": {
      "name": "mol_topology.ipynb",
      "provenance": [],
      "collapsed_sections": [],
      "mount_file_id": "139Bvmh33NSqXJ4ymThNgkvN33UNRE-gD",
      "authorship_tag": "ABX9TyOnDwWxUKBM2dnDgDsvo/Rw",
      "include_colab_link": true
    },
    "kernelspec": {
      "display_name": "Python 3",
      "name": "python3"
    },
    "language_info": {
      "name": "python"
    }
  },
  "cells": [
    {
      "cell_type": "markdown",
      "metadata": {
        "id": "view-in-github",
        "colab_type": "text"
      },
      "source": [
        "<a href=\"https://colab.research.google.com/github/maduprey/DelayExplore/blob/master/mol_topology.ipynb\" target=\"_parent\"><img src=\"https://colab.research.google.com/assets/colab-badge.svg\" alt=\"Open In Colab\"/></a>"
      ]
    },
    {
      "cell_type": "markdown",
      "metadata": {
        "id": "r3qznmgak2XM"
      },
      "source": [
        "# View Protein Topology\n"
      ]
    },
    {
      "cell_type": "code",
      "metadata": {
        "id": "wKuId4wiAfxg"
      },
      "source": [
        "!pip install -q git+https://github.com/azlawson/PersistenceCurves.git\n",
        "!pip install -q biopython\n",
        "!pip install -q py3Dmol\n",
        "!pip install -q scikit-tda"
      ],
      "execution_count": 55,
      "outputs": []
    },
    {
      "cell_type": "code",
      "metadata": {
        "id": "u5yvkkN3AJ7o"
      },
      "source": [
        "import os\n",
        "import numpy as np\n",
        "import persistencecurves as pc\n",
        "import matplotlib.pyplot as plt\n",
        "import py3Dmol\n",
        "import random\n",
        "\n",
        "from Bio.PDB import PDBParser\n",
        "from ripser import ripser\n",
        "from persim import plot_diagrams"
      ],
      "execution_count": 56,
      "outputs": []
    },
    {
      "cell_type": "code",
      "metadata": {
        "id": "LoPkRMLYA06C"
      },
      "source": [
        "parser = PDBParser(PERMISSIVE=1, QUIET=True)\n",
        "os.chdir('/content/drive/MyDrive/Colab Notebooks/data')"
      ],
      "execution_count": 57,
      "outputs": []
    },
    {
      "cell_type": "markdown",
      "metadata": {
        "id": "WTIpZjwv3cIk"
      },
      "source": [
        "Define functions"
      ]
    },
    {
      "cell_type": "code",
      "metadata": {
        "id": "5T3NbKHRuemd"
      },
      "source": [
        "def view_mol(file):\n",
        "    \"\"\"\n",
        "    Given a file path to PDB .ent file, parse it and return visual 3D structure\n",
        "    \"\"\"\n",
        "    file_name = os.path.split(file)[1]\n",
        "    structure_id = os.path.splitext(file_name)[0] \n",
        "    structure = parser.get_structure(structure_id, file)\n",
        "    pdb_id = parser.get_header()['astral']['Source-PDB']\n",
        "\n",
        "    mol = py3Dmol.view(query='pdb:'+pdb_id)\n",
        "    mol.setStyle({'cartoon':{'color':'spectrum'}})\n",
        "\n",
        "    return mol.render()"
      ],
      "execution_count": 58,
      "outputs": []
    },
    {
      "cell_type": "code",
      "metadata": {
        "id": "7ZVIwmXh1G1f"
      },
      "source": [
        "def compute_persist(file):\n",
        "    \"\"\"\n",
        "    Given a file path to PDB .ent file, compute persistent homology and\n",
        "    return life curves for H_0, H_1, H_2\n",
        "    \"\"\"\n",
        "    file_name = os.path.split(file)[1]\n",
        "    structure_id = os.path.splitext(file_name)[0] \n",
        "    structure = parser.get_structure(structure_id, file)\n",
        "\n",
        "    # Generate a list of its atoms' coordinates in R^3\n",
        "    coords = []\n",
        "    for atom in structure.get_atoms():\n",
        "        coords.append(list(atom.get_vector()))\n",
        "    coords = np.array(coords)\n",
        "\n",
        "    # Compute persistent homology\n",
        "    # We roughly use the median number of atoms to set the subsampling threshold \n",
        "    if len(coords) > 1300:\n",
        "        diagram = ripser(coords, maxdim=2, thresh=10, do_cocycles=False, n_perm=1300)['dgms']\n",
        "    else:\n",
        "        diagram = ripser(coords, maxdim=2, thresh=10, do_cocycles=False)['dgms']\n",
        "\n",
        "    # Generate persistence curves from diagrams\n",
        "    d_h0 = pc.Diagram(Dgm=diagram[0], globalmaxdeath=10, inf_policy='remove')\n",
        "    d_h1 = pc.Diagram(Dgm=diagram[1], globalmaxdeath=10, inf_policy='remove')\n",
        "    d_h2 = pc.Diagram(Dgm=diagram[2], globalmaxdeath=10, inf_policy='remove')\n",
        "\n",
        "    # Generate life curves\n",
        "    lc_h0 = d_h0.lifecurve(meshstart=0, meshstop=10, num_in_mesh=100)\n",
        "    lc_h1 = d_h1.lifecurve(meshstart=0, meshstop=10, num_in_mesh=100)\n",
        "    lc_h2 = d_h2.lifecurve(meshstart=0, meshstop=10, num_in_mesh=100)\n",
        "\n",
        "    # Join life curves together\n",
        "    lc_all = np.concatenate((lc_h0, lc_h1, lc_h2))\n",
        "\n",
        "    return lc_all"
      ],
      "execution_count": 59,
      "outputs": []
    },
    {
      "cell_type": "markdown",
      "metadata": {
        "id": "53Lv-_543gV8"
      },
      "source": [
        "## Select files"
      ]
    },
    {
      "cell_type": "code",
      "metadata": {
        "id": "xbWfOZtXzcXn"
      },
      "source": [
        "file_1 = './SCOP40mini/' + random.choice(os.listdir('./SCOP40mini/'))"
      ],
      "execution_count": 76,
      "outputs": []
    },
    {
      "cell_type": "code",
      "metadata": {
        "id": "rM-dpqdj5LFa"
      },
      "source": [
        "file_2 = './SCOP40mini/' + random.choice(os.listdir('./SCOP40mini/'))"
      ],
      "execution_count": 85,
      "outputs": []
    },
    {
      "cell_type": "markdown",
      "metadata": {
        "id": "eTeYVU733kcv"
      },
      "source": [
        "## View files"
      ]
    },
    {
      "cell_type": "code",
      "metadata": {
        "colab": {
          "base_uri": "https://localhost:8080/",
          "height": 515
        },
        "id": "TiEoPbkk0nWW",
        "outputId": "6d1a6c14-e595-4f72-8334-c0ca700c40a1"
      },
      "source": [
        "view_mol(file_1)"
      ],
      "execution_count": 77,
      "outputs": [
        {
          "output_type": "display_data",
          "data": {
            "application/3dmoljs_load.v0": "<div id=\"3dmolviewer_16354748582633\"  style=\"position: relative; width: 640px; height: 480px\">\n        <p id=\"3dmolwarning_16354748582633\" style=\"background-color:#ffcccc;color:black\">You appear to be running in JupyterLab (or JavaScript failed to load for some other reason).  You need to install the 3dmol extension: <br>\n        <tt>jupyter labextension install jupyterlab_3dmol</tt></p>\n        </div>\n<script>\n\nvar loadScriptAsync = function(uri){\n  return new Promise((resolve, reject) => {\n    var tag = document.createElement('script');\n    tag.src = uri;\n    tag.async = true;\n    tag.onload = () => {\n      resolve();\n    };\n  var firstScriptTag = document.getElementsByTagName('script')[0];\n  firstScriptTag.parentNode.insertBefore(tag, firstScriptTag);\n});\n};\n\nif(typeof $3Dmolpromise === 'undefined') {\n$3Dmolpromise = null;\n  $3Dmolpromise = loadScriptAsync('https://3dmol.org/build/3Dmol.js');\n}\n\nvar viewer_16354748582633 = null;\nvar warn = document.getElementById(\"3dmolwarning_16354748582633\");\nif(warn) {\n    warn.parentNode.removeChild(warn);\n}\n$3Dmolpromise.then(function() {\nviewer_16354748582633 = $3Dmol.createViewer($(\"#3dmolviewer_16354748582633\"),{backgroundColor:\"white\"});\n$3Dmol.download(\"pdb:1fex\", viewer_16354748582633, {}, function() {\nviewer_16354748582633.zoomTo();\n\tviewer_16354748582633.setStyle({\"cartoon\": {\"color\": \"spectrum\"}});\n\tviewer_16354748582633.render();\nviewer_16354748582633.render();\n})\n});\n</script>",
            "text/html": [
              "<div id=\"3dmolviewer_16354748582633\"  style=\"position: relative; width: 640px; height: 480px\">\n",
              "        <p id=\"3dmolwarning_16354748582633\" style=\"background-color:#ffcccc;color:black\">You appear to be running in JupyterLab (or JavaScript failed to load for some other reason).  You need to install the 3dmol extension: <br>\n",
              "        <tt>jupyter labextension install jupyterlab_3dmol</tt></p>\n",
              "        </div>\n",
              "<script>\n",
              "\n",
              "var loadScriptAsync = function(uri){\n",
              "  return new Promise((resolve, reject) => {\n",
              "    var tag = document.createElement('script');\n",
              "    tag.src = uri;\n",
              "    tag.async = true;\n",
              "    tag.onload = () => {\n",
              "      resolve();\n",
              "    };\n",
              "  var firstScriptTag = document.getElementsByTagName('script')[0];\n",
              "  firstScriptTag.parentNode.insertBefore(tag, firstScriptTag);\n",
              "});\n",
              "};\n",
              "\n",
              "if(typeof $3Dmolpromise === 'undefined') {\n",
              "$3Dmolpromise = null;\n",
              "  $3Dmolpromise = loadScriptAsync('https://3dmol.org/build/3Dmol.js');\n",
              "}\n",
              "\n",
              "var viewer_16354748582633 = null;\n",
              "var warn = document.getElementById(\"3dmolwarning_16354748582633\");\n",
              "if(warn) {\n",
              "    warn.parentNode.removeChild(warn);\n",
              "}\n",
              "$3Dmolpromise.then(function() {\n",
              "viewer_16354748582633 = $3Dmol.createViewer($(\"#3dmolviewer_16354748582633\"),{backgroundColor:\"white\"});\n",
              "$3Dmol.download(\"pdb:1fex\", viewer_16354748582633, {}, function() {\n",
              "viewer_16354748582633.zoomTo();\n",
              "\tviewer_16354748582633.setStyle({\"cartoon\": {\"color\": \"spectrum\"}});\n",
              "\tviewer_16354748582633.render();\n",
              "viewer_16354748582633.render();\n",
              "})\n",
              "});\n",
              "</script>"
            ]
          },
          "metadata": {}
        },
        {
          "output_type": "execute_result",
          "data": {
            "text/plain": [
              "<py3Dmol.view at 0x7f5e70218ed0>"
            ]
          },
          "metadata": {},
          "execution_count": 77
        }
      ]
    },
    {
      "cell_type": "code",
      "metadata": {
        "colab": {
          "base_uri": "https://localhost:8080/",
          "height": 515
        },
        "id": "5Z_d7wJN0n9r",
        "outputId": "a3218465-d258-435c-88e1-510133229c03"
      },
      "source": [
        "view_mol(file_2)"
      ],
      "execution_count": 86,
      "outputs": [
        {
          "output_type": "display_data",
          "data": {
            "application/3dmoljs_load.v0": "<div id=\"3dmolviewer_16354749760229754\"  style=\"position: relative; width: 640px; height: 480px\">\n        <p id=\"3dmolwarning_16354749760229754\" style=\"background-color:#ffcccc;color:black\">You appear to be running in JupyterLab (or JavaScript failed to load for some other reason).  You need to install the 3dmol extension: <br>\n        <tt>jupyter labextension install jupyterlab_3dmol</tt></p>\n        </div>\n<script>\n\nvar loadScriptAsync = function(uri){\n  return new Promise((resolve, reject) => {\n    var tag = document.createElement('script');\n    tag.src = uri;\n    tag.async = true;\n    tag.onload = () => {\n      resolve();\n    };\n  var firstScriptTag = document.getElementsByTagName('script')[0];\n  firstScriptTag.parentNode.insertBefore(tag, firstScriptTag);\n});\n};\n\nif(typeof $3Dmolpromise === 'undefined') {\n$3Dmolpromise = null;\n  $3Dmolpromise = loadScriptAsync('https://3dmol.org/build/3Dmol.js');\n}\n\nvar viewer_16354749760229754 = null;\nvar warn = document.getElementById(\"3dmolwarning_16354749760229754\");\nif(warn) {\n    warn.parentNode.removeChild(warn);\n}\n$3Dmolpromise.then(function() {\nviewer_16354749760229754 = $3Dmol.createViewer($(\"#3dmolviewer_16354749760229754\"),{backgroundColor:\"white\"});\n$3Dmol.download(\"pdb:1cvr\", viewer_16354749760229754, {}, function() {\nviewer_16354749760229754.zoomTo();\n\tviewer_16354749760229754.setStyle({\"cartoon\": {\"color\": \"spectrum\"}});\n\tviewer_16354749760229754.render();\nviewer_16354749760229754.render();\n})\n});\n</script>",
            "text/html": [
              "<div id=\"3dmolviewer_16354749760229754\"  style=\"position: relative; width: 640px; height: 480px\">\n",
              "        <p id=\"3dmolwarning_16354749760229754\" style=\"background-color:#ffcccc;color:black\">You appear to be running in JupyterLab (or JavaScript failed to load for some other reason).  You need to install the 3dmol extension: <br>\n",
              "        <tt>jupyter labextension install jupyterlab_3dmol</tt></p>\n",
              "        </div>\n",
              "<script>\n",
              "\n",
              "var loadScriptAsync = function(uri){\n",
              "  return new Promise((resolve, reject) => {\n",
              "    var tag = document.createElement('script');\n",
              "    tag.src = uri;\n",
              "    tag.async = true;\n",
              "    tag.onload = () => {\n",
              "      resolve();\n",
              "    };\n",
              "  var firstScriptTag = document.getElementsByTagName('script')[0];\n",
              "  firstScriptTag.parentNode.insertBefore(tag, firstScriptTag);\n",
              "});\n",
              "};\n",
              "\n",
              "if(typeof $3Dmolpromise === 'undefined') {\n",
              "$3Dmolpromise = null;\n",
              "  $3Dmolpromise = loadScriptAsync('https://3dmol.org/build/3Dmol.js');\n",
              "}\n",
              "\n",
              "var viewer_16354749760229754 = null;\n",
              "var warn = document.getElementById(\"3dmolwarning_16354749760229754\");\n",
              "if(warn) {\n",
              "    warn.parentNode.removeChild(warn);\n",
              "}\n",
              "$3Dmolpromise.then(function() {\n",
              "viewer_16354749760229754 = $3Dmol.createViewer($(\"#3dmolviewer_16354749760229754\"),{backgroundColor:\"white\"});\n",
              "$3Dmol.download(\"pdb:1cvr\", viewer_16354749760229754, {}, function() {\n",
              "viewer_16354749760229754.zoomTo();\n",
              "\tviewer_16354749760229754.setStyle({\"cartoon\": {\"color\": \"spectrum\"}});\n",
              "\tviewer_16354749760229754.render();\n",
              "viewer_16354749760229754.render();\n",
              "})\n",
              "});\n",
              "</script>"
            ]
          },
          "metadata": {}
        },
        {
          "output_type": "execute_result",
          "data": {
            "text/plain": [
              "<py3Dmol.view at 0x7f5e6e2d8d10>"
            ]
          },
          "metadata": {},
          "execution_count": 86
        }
      ]
    },
    {
      "cell_type": "code",
      "metadata": {
        "colab": {
          "base_uri": "https://localhost:8080/",
          "height": 763
        },
        "id": "bF-QvhU03Hxu",
        "outputId": "cdd11981-5dd8-4dce-bf79-8ec2beb5fe10"
      },
      "source": [
        "# 0-100:    H_0\n",
        "# 100-200:  H_1\n",
        "# 200-300:  H_3\n",
        "hom = range(100, 200)\n",
        "\n",
        "# File 1\n",
        "fig, ax = plt.subplots(figsize=(12, 6))\n",
        "ax.plot(compute_persist(file_1)[hom])\n",
        "ax.set_title('Persistence curve, file 1')\n",
        "plt.show()\n",
        "\n",
        "# File 2\n",
        "fig, ax = plt.subplots(figsize=(12, 6))\n",
        "ax.plot(compute_persist(file_2)[hom])\n",
        "ax.set_title('Persistence curve, file 2')\n",
        "plt.show()"
      ],
      "execution_count": 87,
      "outputs": [
        {
          "output_type": "display_data",
          "data": {
            "image/png": "[encoded data removed]",
            "text/plain": [
              "<Figure size 864x432 with 1 Axes>"
            ]
          },
          "metadata": {
            "needs_background": "light"
          }
        },
        {
          "output_type": "display_data",
          "data": {
            "image/png": "[encoded data removed]",
            "text/plain": [
              "<Figure size 864x432 with 1 Axes>"
            ]
          },
          "metadata": {
            "needs_background": "light"
          }
        }
      ]
    }
  ]
}